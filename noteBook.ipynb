{
  "metadata": {
    "kernelspec": {
      "name": "python",
      "display_name": "Python (Pyodide)",
      "language": "python"
    },
    "language_info": {
      "codemirror_mode": {
        "name": "python",
        "version": 3
      },
      "file_extension": ".py",
      "mimetype": "text/x-python",
      "name": "python",
      "nbconvert_exporter": "python",
      "pygments_lexer": "ipython3",
      "version": "3.8"
    }
  },
  "nbformat_minor": 4,
  "nbformat": 4,
  "cells": [
    {
      "cell_type": "markdown",
      "source": "# 1- Goal:\n\n Our goal is to delve into the data, investigating and analyzing it to identify potential risk factors and gain insights into the demographics most susceptible to strokes. By leveraging this dataset, we intend to predict the likelihood of a patient experiencing a stroke based on parameters such as gender, age, existing medical conditions, and smoking status. Each entry in the dataset furnishes pertinent details about the patient, facilitating comprehensive analysis and predictive modeling.\n\n\n# 2- Dataset:\n\nOur dataset source is Kaggle : <https://www.kaggle.com/datasets/fedesoriano/stroke-prediction-dataset>\n\n\n# 3- Genral info about the dataset:\n\nAmong the 5110 objects in our dataset sample, 12 attributes are used to describe them. (See Table 1).\n the class label for our dataset is Stroke hat took two values 1 and 0 to indicate whether they are sufferd from it or not.\n\n ##### Table 1: General Information about the attributes \n\n| Attributes name   | Description                                                 | Data type |    \n|-------------------|-------------------------------------------------------------|-----------|\n| id                | Unique id of the patient                                    | Nominal   | \n| gender            | Gender of the patient                                       | Binary    | \n| age               | Age of the patient                                          | Numeric   | \n| hypertension      | 1 means the patient has hypertension,0 means they do not.   | Binary    | \n| heart_disease     | 1 means the patient has heart disease,0 means they do not.  | Binary    | \n| ever_married      | Has the patient ever been married?                          | Binary    | \n| work_type         | Work type of the patient                                    | Nominal   | \n| residence_type    | Residence type of the patient                               | Binary    | \n| avg_glucose_level | Average glucose level in blood                              | Numeric   | \n| bmi               | Body Mass Index                                             | Numeric   |\n| Smoking state     | whether or not smokes                                       | Nominal   | \n| stroke            | 1 means the patient had a stroke, 0 means not               | Binary    | \n\n\n\n\n",
      "metadata": {}
    },
    {
      "cell_type": "code",
      "source": "",
      "metadata": {
        "trusted": true
      },
      "outputs": [],
      "execution_count": null
    }
  ]
}