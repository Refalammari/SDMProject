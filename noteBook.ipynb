{
  "metadata": {
    "kernelspec": {
      "name": "python",
      "display_name": "Python (Pyodide)",
      "language": "python"
    },
    "language_info": {
      "codemirror_mode": {
        "name": "python",
        "version": 3
      },
      "file_extension": ".py",
      "mimetype": "text/x-python",
      "name": "python",
      "nbconvert_exporter": "python",
      "pygments_lexer": "ipython3",
      "version": "3.8"
    }
  },
  "nbformat_minor": 4,
  "nbformat": 4,
  "cells": [
    {
      "cell_type": "code",
      "source": "# 1- Goal:\n\n Our goal is to delve into the data, investigating and analyzing it to identify potential risk factors and gain insights into the demographics most susceptible to strokes. By leveraging this dataset, we intend to predict the likelihood of a patient experiencing a stroke based on parameters such as gender, age, existing medical conditions, and smoking status. Each entry in the dataset furnishes pertinent details about the patient, facilitating comprehensive analysis and predictive modeling.\nclassification goal involve using data mining to build a predictive model that classifies individuals into two categories: those at high risk of experiencing a stroke and those at low risk.\n\n\n\n# 2- Dataset:\n\nOur dataset source is Kaggle : <https://www.kaggle.com/datasets/fedesoriano/stroke-prediction-dataset>\n\n\n# 3- Genral info about the dataset:\n\nAmong the 5110 objects in our dataset sample, 12 attributes are used to describe them. (See Table 1).\n the class label for our dataset is Stroke hat took two values 1 and 0 to indicate whether they are sufferd from it or not.\n\n ##### Table 1: General Information about the attributes \n\n\n",
      "metadata": {
        "trusted": true
      },
      "outputs": [],
      "execution_count": null
    },
    {
      "cell_type": "markdown",
      "source": "\n| Attributes name   | Description                                                 | Data type | Rangee values     \n|-------------------|-------------------------------------------------------------|-----------|-----------------\n| id                | Unique id of the patient                                    | Nominal   | \n| gender            | Gender of the patient                                       | Binary    | \n| age               | Age of the patient                                          | Numeric   | Range between 0.08- 82\n| hypertension      | 1 means the patient has hypertension,0 means they do not.   | Binary    | 0,1\n| heart_disease     | 1 means the patient has heart disease,0 means they do not.  | Binary    | 0,1\n| ever_married      | Has the patient ever been married?                          | Binary    | yes,no\n| work_type         | Work type of the patient                                    | Nominal   | “Private”, “Self-employed”, “children”, “Govt_job”, “Never_worked”\n| residence_type    | Residence type of the patient                               | Binary    | Urban,Rural\n| avg_glucose_level | Average glucose level in blood                              | Numeric   | between 55.1- 272\n| bmi               | Body Mass Index                                             | Numeric   | between 10.3- 97.6\n| Smoking state     | whether or not smokes                                       | Nominal   | “never smoked”, “Unknown”, “formerly smoked”, “smokes”\n| stroke            | 1 means the patient had a stroke, 0 means not               | Binary    | 0,1\n",
      "metadata": {}
    },
    {
      "cell_type": "code",
      "source": "####Dataset information:\n\nimport pandas as pd\ndf = pd.read_csv(\"StrokeDS.csv\")\nprint(df.info())",
      "metadata": {
        "trusted": true,
        "scrolled": true
      },
      "outputs": [
        {
          "name": "stdout",
          "text": "<class 'pandas.core.frame.DataFrame'>\nRangeIndex: 5110 entries, 0 to 5109\nData columns (total 12 columns):\n #   Column             Non-Null Count  Dtype  \n---  ------             --------------  -----  \n 0   id                 5110 non-null   int64  \n 1   gender             5110 non-null   object \n 2   age                5110 non-null   float64\n 3   hypertension       5110 non-null   int64  \n 4   heart_disease      5110 non-null   int64  \n 5   ever_married       5110 non-null   object \n 6   work_type          5110 non-null   object \n 7   Residence_type     5110 non-null   object \n 8   avg_glucose_level  5110 non-null   float64\n 9   bmi                4909 non-null   float64\n 10  smoking_status     5110 non-null   object \n 11  stroke             5110 non-null   int64  \ndtypes: float64(3), int64(4), object(5)\nmemory usage: 379.3+ KB\nNone\n",
          "output_type": "stream"
        }
      ],
      "execution_count": 17
    },
    {
      "cell_type": "code",
      "source": "####Sample first 3 rows:\n\nimport pandas as pd\ndf = pd.read_csv(\"StrokeDS.csv\")\nprint(df.head(3))",
      "metadata": {
        "trusted": true,
        "scrolled": true
      },
      "outputs": [
        {
          "name": "stdout",
          "text": "      id  gender   age  hypertension  heart_disease ever_married  \\\n0   9046    Male  67.0             0              1          Yes   \n1  51676  Female  61.0             0              0          Yes   \n2  31112    Male  80.0             0              1          Yes   \n\n       work_type Residence_type  avg_glucose_level   bmi   smoking_status  \\\n0        Private          Urban             228.69  36.6  formerly smoked   \n1  Self-employed          Rural             202.21   NaN     never smoked   \n2        Private          Rural             105.92  32.5     never smoked   \n\n   stroke  \n0       1  \n1       1  \n2       1  \n",
          "output_type": "stream"
        }
      ],
      "execution_count": 15
    }
  ]
}